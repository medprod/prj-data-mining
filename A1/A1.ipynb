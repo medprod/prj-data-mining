{
 "cells": [
  {
   "cell_type": "code",
   "execution_count": 400,
   "id": "204aadd6-620d-4b94-9ece-59539d534d13",
   "metadata": {},
   "outputs": [],
   "source": [
    "import pandas as pd\n",
    "import numpy as np\n",
    "import seaborn as sns\n",
    "import matplotlib.pyplot as plt"
   ]
  },
  {
   "cell_type": "markdown",
   "id": "5d4e5354-6d20-4d26-be48-ce6c84d7d960",
   "metadata": {},
   "source": [
    "#### Part 1 - Autism-Adult.csv"
   ]
  },
  {
   "cell_type": "code",
   "execution_count": 403,
   "id": "25969b18-0cc0-4e10-a292-9b1b1c519cba",
   "metadata": {},
   "outputs": [
    {
     "data": {
      "text/html": [
       "<div>\n",
       "<style scoped>\n",
       "    .dataframe tbody tr th:only-of-type {\n",
       "        vertical-align: middle;\n",
       "    }\n",
       "\n",
       "    .dataframe tbody tr th {\n",
       "        vertical-align: top;\n",
       "    }\n",
       "\n",
       "    .dataframe thead th {\n",
       "        text-align: right;\n",
       "    }\n",
       "</style>\n",
       "<table border=\"1\" class=\"dataframe\">\n",
       "  <thead>\n",
       "    <tr style=\"text-align: right;\">\n",
       "      <th></th>\n",
       "      <th>A1_Score</th>\n",
       "      <th>A2_Score</th>\n",
       "      <th>A3_Score</th>\n",
       "      <th>A4_Score</th>\n",
       "      <th>A5_Score</th>\n",
       "      <th>A6_Score</th>\n",
       "      <th>A7_Score</th>\n",
       "      <th>A8_Score</th>\n",
       "      <th>A9_Score</th>\n",
       "      <th>A10_Score</th>\n",
       "      <th>age</th>\n",
       "      <th>gender</th>\n",
       "      <th>ethnicity</th>\n",
       "      <th>jaundice</th>\n",
       "      <th>austim</th>\n",
       "      <th>country_of_res</th>\n",
       "      <th>used_app_before</th>\n",
       "      <th>relation</th>\n",
       "      <th>Class/ASD</th>\n",
       "    </tr>\n",
       "  </thead>\n",
       "  <tbody>\n",
       "    <tr>\n",
       "      <th>0</th>\n",
       "      <td>1</td>\n",
       "      <td>1</td>\n",
       "      <td>1</td>\n",
       "      <td>1</td>\n",
       "      <td>0</td>\n",
       "      <td>0</td>\n",
       "      <td>1</td>\n",
       "      <td>1</td>\n",
       "      <td>0</td>\n",
       "      <td>0</td>\n",
       "      <td>26</td>\n",
       "      <td>f</td>\n",
       "      <td>White-European</td>\n",
       "      <td>no</td>\n",
       "      <td>no</td>\n",
       "      <td>'United States'</td>\n",
       "      <td>no</td>\n",
       "      <td>Self</td>\n",
       "      <td>NO</td>\n",
       "    </tr>\n",
       "    <tr>\n",
       "      <th>1</th>\n",
       "      <td>1</td>\n",
       "      <td>1</td>\n",
       "      <td>0</td>\n",
       "      <td>1</td>\n",
       "      <td>0</td>\n",
       "      <td>0</td>\n",
       "      <td>0</td>\n",
       "      <td>1</td>\n",
       "      <td>0</td>\n",
       "      <td>1</td>\n",
       "      <td>24</td>\n",
       "      <td>m</td>\n",
       "      <td>Latino</td>\n",
       "      <td>no</td>\n",
       "      <td>yes</td>\n",
       "      <td>Brazil</td>\n",
       "      <td>no</td>\n",
       "      <td>Self</td>\n",
       "      <td>NO</td>\n",
       "    </tr>\n",
       "    <tr>\n",
       "      <th>2</th>\n",
       "      <td>1</td>\n",
       "      <td>1</td>\n",
       "      <td>0</td>\n",
       "      <td>1</td>\n",
       "      <td>1</td>\n",
       "      <td>0</td>\n",
       "      <td>1</td>\n",
       "      <td>1</td>\n",
       "      <td>1</td>\n",
       "      <td>1</td>\n",
       "      <td>27</td>\n",
       "      <td>m</td>\n",
       "      <td>Latino</td>\n",
       "      <td>yes</td>\n",
       "      <td>yes</td>\n",
       "      <td>Spain</td>\n",
       "      <td>no</td>\n",
       "      <td>Parent</td>\n",
       "      <td>YES</td>\n",
       "    </tr>\n",
       "    <tr>\n",
       "      <th>3</th>\n",
       "      <td>1</td>\n",
       "      <td>1</td>\n",
       "      <td>0</td>\n",
       "      <td>1</td>\n",
       "      <td>0</td>\n",
       "      <td>0</td>\n",
       "      <td>1</td>\n",
       "      <td>1</td>\n",
       "      <td>0</td>\n",
       "      <td>1</td>\n",
       "      <td>35</td>\n",
       "      <td>f</td>\n",
       "      <td>White-European</td>\n",
       "      <td>no</td>\n",
       "      <td>yes</td>\n",
       "      <td>'United States'</td>\n",
       "      <td>no</td>\n",
       "      <td>Self</td>\n",
       "      <td>NO</td>\n",
       "    </tr>\n",
       "    <tr>\n",
       "      <th>4</th>\n",
       "      <td>1</td>\n",
       "      <td>0</td>\n",
       "      <td>0</td>\n",
       "      <td>0</td>\n",
       "      <td>0</td>\n",
       "      <td>0</td>\n",
       "      <td>0</td>\n",
       "      <td>1</td>\n",
       "      <td>0</td>\n",
       "      <td>0</td>\n",
       "      <td>40</td>\n",
       "      <td>f</td>\n",
       "      <td>?</td>\n",
       "      <td>no</td>\n",
       "      <td>no</td>\n",
       "      <td>Egypt</td>\n",
       "      <td>no</td>\n",
       "      <td>?</td>\n",
       "      <td>NO</td>\n",
       "    </tr>\n",
       "  </tbody>\n",
       "</table>\n",
       "</div>"
      ],
      "text/plain": [
       "   A1_Score  A2_Score  A3_Score  A4_Score  A5_Score  A6_Score  A7_Score  \\\n",
       "0         1         1         1         1         0         0         1   \n",
       "1         1         1         0         1         0         0         0   \n",
       "2         1         1         0         1         1         0         1   \n",
       "3         1         1         0         1         0         0         1   \n",
       "4         1         0         0         0         0         0         0   \n",
       "\n",
       "   A8_Score  A9_Score  A10_Score age gender       ethnicity jaundice austim  \\\n",
       "0         1         0          0  26      f  White-European       no     no   \n",
       "1         1         0          1  24      m          Latino       no    yes   \n",
       "2         1         1          1  27      m          Latino      yes    yes   \n",
       "3         1         0          1  35      f  White-European       no    yes   \n",
       "4         1         0          0  40      f               ?       no     no   \n",
       "\n",
       "    country_of_res used_app_before relation Class/ASD  \n",
       "0  'United States'              no     Self        NO  \n",
       "1           Brazil              no     Self        NO  \n",
       "2            Spain              no   Parent       YES  \n",
       "3  'United States'              no     Self        NO  \n",
       "4            Egypt              no        ?        NO  "
      ]
     },
     "execution_count": 403,
     "metadata": {},
     "output_type": "execute_result"
    }
   ],
   "source": [
    "df = pd.read_csv('autism-adult.csv')\n",
    "df.head()"
   ]
  },
  {
   "cell_type": "code",
   "execution_count": 405,
   "id": "ffe81957-3f12-4a7c-9c16-910498052830",
   "metadata": {},
   "outputs": [
    {
     "data": {
      "text/plain": [
       "(704, 19)"
      ]
     },
     "execution_count": 405,
     "metadata": {},
     "output_type": "execute_result"
    }
   ],
   "source": [
    "df.shape"
   ]
  },
  {
   "cell_type": "code",
   "execution_count": 407,
   "id": "fb766497-7799-47d5-a210-b42ed69b89ef",
   "metadata": {},
   "outputs": [
    {
     "data": {
      "text/plain": [
       "A1_Score            int64\n",
       "A2_Score            int64\n",
       "A3_Score            int64\n",
       "A4_Score            int64\n",
       "A5_Score            int64\n",
       "A6_Score            int64\n",
       "A7_Score            int64\n",
       "A8_Score            int64\n",
       "A9_Score            int64\n",
       "A10_Score           int64\n",
       "age                object\n",
       "gender             object\n",
       "ethnicity          object\n",
       "jaundice           object\n",
       "austim             object\n",
       "country_of_res     object\n",
       "used_app_before    object\n",
       "relation           object\n",
       "Class/ASD          object\n",
       "dtype: object"
      ]
     },
     "execution_count": 407,
     "metadata": {},
     "output_type": "execute_result"
    }
   ],
   "source": [
    "df.dtypes"
   ]
  },
  {
   "cell_type": "markdown",
   "id": "cf137f16-1b35-495d-8883-f8d0690e52dc",
   "metadata": {},
   "source": [
    "##### (1.1) Mean, Median, and Standard Deviation of Age feature"
   ]
  },
  {
   "cell_type": "code",
   "execution_count": 410,
   "id": "f4b4ba9d-eeb5-4880-99d2-902a541634c9",
   "metadata": {},
   "outputs": [
    {
     "data": {
      "text/plain": [
       "age\n",
       "21     49\n",
       "20     46\n",
       "23     37\n",
       "22     37\n",
       "19     35\n",
       "24     34\n",
       "27     31\n",
       "18     31\n",
       "30     30\n",
       "26     28\n",
       "25     27\n",
       "29     27\n",
       "28     24\n",
       "31     21\n",
       "17     18\n",
       "32     18\n",
       "35     17\n",
       "37     17\n",
       "33     16\n",
       "40     16\n",
       "42     15\n",
       "36     13\n",
       "38     12\n",
       "34     12\n",
       "43     11\n",
       "44     10\n",
       "47      8\n",
       "39      7\n",
       "55      6\n",
       "53      6\n",
       "46      6\n",
       "50      5\n",
       "52      5\n",
       "48      4\n",
       "45      4\n",
       "49      3\n",
       "41      3\n",
       "54      2\n",
       "58      2\n",
       "?       2\n",
       "56      2\n",
       "61      2\n",
       "59      1\n",
       "64      1\n",
       "60      1\n",
       "383     1\n",
       "51      1\n",
       "Name: count, dtype: int64"
      ]
     },
     "execution_count": 410,
     "metadata": {},
     "output_type": "execute_result"
    }
   ],
   "source": [
    "df['age'].value_counts()"
   ]
  },
  {
   "cell_type": "code",
   "execution_count": 412,
   "id": "76315cc8-965f-402f-a872-adf69eff4ab0",
   "metadata": {},
   "outputs": [],
   "source": [
    "#removing the ? from data due to inconsistency and assigning it to a new dataframe\n",
    "new_df = df[df['age']!='?']"
   ]
  },
  {
   "cell_type": "code",
   "execution_count": 414,
   "id": "0d964744-9ba9-4a35-9121-dd2964026382",
   "metadata": {},
   "outputs": [
    {
     "name": "stderr",
     "output_type": "stream",
     "text": [
      "/var/folders/8y/_nxp_0_n50q0qqq5tr00vwsr0000gn/T/ipykernel_59251/2043746479.py:2: SettingWithCopyWarning: \n",
      "A value is trying to be set on a copy of a slice from a DataFrame.\n",
      "Try using .loc[row_indexer,col_indexer] = value instead\n",
      "\n",
      "See the caveats in the documentation: https://pandas.pydata.org/pandas-docs/stable/user_guide/indexing.html#returning-a-view-versus-a-copy\n",
      "  new_df['age'] = new_df['age'].astype('int')\n"
     ]
    }
   ],
   "source": [
    "#converting the age column into integer data type from object.\n",
    "new_df['age'] = new_df['age'].astype('int')"
   ]
  },
  {
   "cell_type": "code",
   "execution_count": 416,
   "id": "901a0a67-8f64-49a9-9b02-d4a0e95fb834",
   "metadata": {},
   "outputs": [
    {
     "data": {
      "text/plain": [
       "29.698005698005698"
      ]
     },
     "execution_count": 416,
     "metadata": {},
     "output_type": "execute_result"
    }
   ],
   "source": [
    "#mean of age column\n",
    "new_df['age'].mean()"
   ]
  },
  {
   "cell_type": "code",
   "execution_count": 418,
   "id": "613d8dbf-a2aa-41e8-ba29-c69ee3dbc980",
   "metadata": {},
   "outputs": [
    {
     "data": {
      "text/plain": [
       "27.0"
      ]
     },
     "execution_count": 418,
     "metadata": {},
     "output_type": "execute_result"
    }
   ],
   "source": [
    "#median of age column\n",
    "new_df['age'].median()"
   ]
  },
  {
   "cell_type": "code",
   "execution_count": 420,
   "id": "5928ee51-ef34-492d-82e3-e971ee94d5e2",
   "metadata": {},
   "outputs": [
    {
     "data": {
      "text/plain": [
       "16.50746501291481"
      ]
     },
     "execution_count": 420,
     "metadata": {},
     "output_type": "execute_result"
    }
   ],
   "source": [
    "#standard deviation of age column\n",
    "new_df['age'].std()"
   ]
  },
  {
   "cell_type": "markdown",
   "id": "615f7e88-1669-448b-91ef-8f78cbc49f87",
   "metadata": {},
   "source": [
    "##### (1.2) Q1, Q2, Q3 of age"
   ]
  },
  {
   "cell_type": "code",
   "execution_count": 423,
   "id": "0b8c4251-d776-49f5-97dc-4ca70509e344",
   "metadata": {},
   "outputs": [
    {
     "data": {
      "text/plain": [
       "0.25    21.0\n",
       "0.50    27.0\n",
       "0.75    35.0\n",
       "Name: age, dtype: float64"
      ]
     },
     "execution_count": 423,
     "metadata": {},
     "output_type": "execute_result"
    }
   ],
   "source": [
    "new_df['age'].quantile([0.25,0.50,0.75])"
   ]
  },
  {
   "cell_type": "markdown",
   "id": "406c89eb-d132-4a54-b35a-320662857df2",
   "metadata": {},
   "source": [
    "##### (1.3) Boxplot of Age Feature"
   ]
  },
  {
   "cell_type": "code",
   "execution_count": 426,
   "id": "d1997809-7d39-44fa-9419-ace9f56c299c",
   "metadata": {},
   "outputs": [
    {
     "data": {
      "text/plain": [
       "<Figure size 1000x500 with 0 Axes>"
      ]
     },
     "execution_count": 426,
     "metadata": {},
     "output_type": "execute_result"
    },
    {
     "data": {
      "image/png": "[encoded data removed]",
      "text/plain": [
       "<Figure size 640x480 with 1 Axes>"
      ]
     },
     "metadata": {},
     "output_type": "display_data"
    },
    {
     "data": {
      "text/plain": [
       "<Figure size 1000x500 with 0 Axes>"
      ]
     },
     "metadata": {},
     "output_type": "display_data"
    }
   ],
   "source": [
    "sns.boxplot(data=new_df, x='age', color='red')\n",
    "plt.title(\"Distribution of Age\")\n",
    "plt.xlabel('Age')\n",
    "plt.figure(figsize=(10,5))"
   ]
  },
  {
   "cell_type": "markdown",
   "id": "b25532df-76eb-4fae-936f-a3752f06a78d",
   "metadata": {},
   "source": [
    "##### (1.4) Min-Max rescaling on Age Feature"
   ]
  },
  {
   "cell_type": "code",
   "execution_count": 429,
   "id": "d06045dc-939d-4f2e-b856-e8179c9c05d2",
   "metadata": {},
   "outputs": [
    {
     "data": {
      "text/plain": [
       "17"
      ]
     },
     "execution_count": 429,
     "metadata": {},
     "output_type": "execute_result"
    }
   ],
   "source": [
    "#finding the minimum value of the age column\n",
    "min_age = new_df['age'].min()\n",
    "min_age"
   ]
  },
  {
   "cell_type": "code",
   "execution_count": 431,
   "id": "71a5e8be-b6d0-48c5-b87b-64df1ffb97f9",
   "metadata": {},
   "outputs": [
    {
     "data": {
      "text/plain": [
       "383"
      ]
     },
     "execution_count": 431,
     "metadata": {},
     "output_type": "execute_result"
    }
   ],
   "source": [
    "#finding the maximum value of the age column\n",
    "max_age = new_df['age'].max()\n",
    "max_age"
   ]
  },
  {
   "cell_type": "code",
   "execution_count": 433,
   "id": "4822f19e-e402-4cea-af6b-6c84db236f69",
   "metadata": {},
   "outputs": [
    {
     "name": "stderr",
     "output_type": "stream",
     "text": [
      "/var/folders/8y/_nxp_0_n50q0qqq5tr00vwsr0000gn/T/ipykernel_59251/2746095433.py:2: SettingWithCopyWarning: \n",
      "A value is trying to be set on a copy of a slice from a DataFrame.\n",
      "Try using .loc[row_indexer,col_indexer] = value instead\n",
      "\n",
      "See the caveats in the documentation: https://pandas.pydata.org/pandas-docs/stable/user_guide/indexing.html#returning-a-view-versus-a-copy\n",
      "  new_df['age'] = (new_df['age']-min_age)/(max_age-min_age)\n"
     ]
    }
   ],
   "source": [
    "#rescaling formula is x' = (x − min) / (max − min)\n",
    "new_df['age'] = (new_df['age']-min_age)/(max_age-min_age)"
   ]
  },
  {
   "cell_type": "code",
   "execution_count": 435,
   "id": "fec1ae0b-6ae8-4022-bc60-fa2edc84772b",
   "metadata": {},
   "outputs": [
    {
     "data": {
      "text/html": [
       "<div>\n",
       "<style scoped>\n",
       "    .dataframe tbody tr th:only-of-type {\n",
       "        vertical-align: middle;\n",
       "    }\n",
       "\n",
       "    .dataframe tbody tr th {\n",
       "        vertical-align: top;\n",
       "    }\n",
       "\n",
       "    .dataframe thead th {\n",
       "        text-align: right;\n",
       "    }\n",
       "</style>\n",
       "<table border=\"1\" class=\"dataframe\">\n",
       "  <thead>\n",
       "    <tr style=\"text-align: right;\">\n",
       "      <th></th>\n",
       "      <th>A1_Score</th>\n",
       "      <th>A2_Score</th>\n",
       "      <th>A3_Score</th>\n",
       "      <th>A4_Score</th>\n",
       "      <th>A5_Score</th>\n",
       "      <th>A6_Score</th>\n",
       "      <th>A7_Score</th>\n",
       "      <th>A8_Score</th>\n",
       "      <th>A9_Score</th>\n",
       "      <th>A10_Score</th>\n",
       "      <th>age</th>\n",
       "      <th>gender</th>\n",
       "      <th>ethnicity</th>\n",
       "      <th>jaundice</th>\n",
       "      <th>austim</th>\n",
       "      <th>country_of_res</th>\n",
       "      <th>used_app_before</th>\n",
       "      <th>relation</th>\n",
       "      <th>Class/ASD</th>\n",
       "    </tr>\n",
       "  </thead>\n",
       "  <tbody>\n",
       "    <tr>\n",
       "      <th>0</th>\n",
       "      <td>1</td>\n",
       "      <td>1</td>\n",
       "      <td>1</td>\n",
       "      <td>1</td>\n",
       "      <td>0</td>\n",
       "      <td>0</td>\n",
       "      <td>1</td>\n",
       "      <td>1</td>\n",
       "      <td>0</td>\n",
       "      <td>0</td>\n",
       "      <td>0.024590</td>\n",
       "      <td>f</td>\n",
       "      <td>White-European</td>\n",
       "      <td>no</td>\n",
       "      <td>no</td>\n",
       "      <td>'United States'</td>\n",
       "      <td>no</td>\n",
       "      <td>Self</td>\n",
       "      <td>NO</td>\n",
       "    </tr>\n",
       "    <tr>\n",
       "      <th>1</th>\n",
       "      <td>1</td>\n",
       "      <td>1</td>\n",
       "      <td>0</td>\n",
       "      <td>1</td>\n",
       "      <td>0</td>\n",
       "      <td>0</td>\n",
       "      <td>0</td>\n",
       "      <td>1</td>\n",
       "      <td>0</td>\n",
       "      <td>1</td>\n",
       "      <td>0.019126</td>\n",
       "      <td>m</td>\n",
       "      <td>Latino</td>\n",
       "      <td>no</td>\n",
       "      <td>yes</td>\n",
       "      <td>Brazil</td>\n",
       "      <td>no</td>\n",
       "      <td>Self</td>\n",
       "      <td>NO</td>\n",
       "    </tr>\n",
       "    <tr>\n",
       "      <th>2</th>\n",
       "      <td>1</td>\n",
       "      <td>1</td>\n",
       "      <td>0</td>\n",
       "      <td>1</td>\n",
       "      <td>1</td>\n",
       "      <td>0</td>\n",
       "      <td>1</td>\n",
       "      <td>1</td>\n",
       "      <td>1</td>\n",
       "      <td>1</td>\n",
       "      <td>0.027322</td>\n",
       "      <td>m</td>\n",
       "      <td>Latino</td>\n",
       "      <td>yes</td>\n",
       "      <td>yes</td>\n",
       "      <td>Spain</td>\n",
       "      <td>no</td>\n",
       "      <td>Parent</td>\n",
       "      <td>YES</td>\n",
       "    </tr>\n",
       "    <tr>\n",
       "      <th>3</th>\n",
       "      <td>1</td>\n",
       "      <td>1</td>\n",
       "      <td>0</td>\n",
       "      <td>1</td>\n",
       "      <td>0</td>\n",
       "      <td>0</td>\n",
       "      <td>1</td>\n",
       "      <td>1</td>\n",
       "      <td>0</td>\n",
       "      <td>1</td>\n",
       "      <td>0.049180</td>\n",
       "      <td>f</td>\n",
       "      <td>White-European</td>\n",
       "      <td>no</td>\n",
       "      <td>yes</td>\n",
       "      <td>'United States'</td>\n",
       "      <td>no</td>\n",
       "      <td>Self</td>\n",
       "      <td>NO</td>\n",
       "    </tr>\n",
       "    <tr>\n",
       "      <th>4</th>\n",
       "      <td>1</td>\n",
       "      <td>0</td>\n",
       "      <td>0</td>\n",
       "      <td>0</td>\n",
       "      <td>0</td>\n",
       "      <td>0</td>\n",
       "      <td>0</td>\n",
       "      <td>1</td>\n",
       "      <td>0</td>\n",
       "      <td>0</td>\n",
       "      <td>0.062842</td>\n",
       "      <td>f</td>\n",
       "      <td>?</td>\n",
       "      <td>no</td>\n",
       "      <td>no</td>\n",
       "      <td>Egypt</td>\n",
       "      <td>no</td>\n",
       "      <td>?</td>\n",
       "      <td>NO</td>\n",
       "    </tr>\n",
       "    <tr>\n",
       "      <th>5</th>\n",
       "      <td>1</td>\n",
       "      <td>1</td>\n",
       "      <td>1</td>\n",
       "      <td>1</td>\n",
       "      <td>1</td>\n",
       "      <td>0</td>\n",
       "      <td>1</td>\n",
       "      <td>1</td>\n",
       "      <td>1</td>\n",
       "      <td>1</td>\n",
       "      <td>0.051913</td>\n",
       "      <td>m</td>\n",
       "      <td>Others</td>\n",
       "      <td>yes</td>\n",
       "      <td>no</td>\n",
       "      <td>'United States'</td>\n",
       "      <td>no</td>\n",
       "      <td>Self</td>\n",
       "      <td>YES</td>\n",
       "    </tr>\n",
       "    <tr>\n",
       "      <th>6</th>\n",
       "      <td>0</td>\n",
       "      <td>1</td>\n",
       "      <td>0</td>\n",
       "      <td>0</td>\n",
       "      <td>0</td>\n",
       "      <td>0</td>\n",
       "      <td>0</td>\n",
       "      <td>1</td>\n",
       "      <td>0</td>\n",
       "      <td>0</td>\n",
       "      <td>0.000000</td>\n",
       "      <td>f</td>\n",
       "      <td>Black</td>\n",
       "      <td>no</td>\n",
       "      <td>no</td>\n",
       "      <td>'United States'</td>\n",
       "      <td>no</td>\n",
       "      <td>Self</td>\n",
       "      <td>NO</td>\n",
       "    </tr>\n",
       "  </tbody>\n",
       "</table>\n",
       "</div>"
      ],
      "text/plain": [
       "   A1_Score  A2_Score  A3_Score  A4_Score  A5_Score  A6_Score  A7_Score  \\\n",
       "0         1         1         1         1         0         0         1   \n",
       "1         1         1         0         1         0         0         0   \n",
       "2         1         1         0         1         1         0         1   \n",
       "3         1         1         0         1         0         0         1   \n",
       "4         1         0         0         0         0         0         0   \n",
       "5         1         1         1         1         1         0         1   \n",
       "6         0         1         0         0         0         0         0   \n",
       "\n",
       "   A8_Score  A9_Score  A10_Score       age gender       ethnicity jaundice  \\\n",
       "0         1         0          0  0.024590      f  White-European       no   \n",
       "1         1         0          1  0.019126      m          Latino       no   \n",
       "2         1         1          1  0.027322      m          Latino      yes   \n",
       "3         1         0          1  0.049180      f  White-European       no   \n",
       "4         1         0          0  0.062842      f               ?       no   \n",
       "5         1         1          1  0.051913      m          Others      yes   \n",
       "6         1         0          0  0.000000      f           Black       no   \n",
       "\n",
       "  austim   country_of_res used_app_before relation Class/ASD  \n",
       "0     no  'United States'              no     Self        NO  \n",
       "1    yes           Brazil              no     Self        NO  \n",
       "2    yes            Spain              no   Parent       YES  \n",
       "3    yes  'United States'              no     Self        NO  \n",
       "4     no            Egypt              no        ?        NO  \n",
       "5     no  'United States'              no     Self       YES  \n",
       "6     no  'United States'              no     Self        NO  "
      ]
     },
     "execution_count": 435,
     "metadata": {},
     "output_type": "execute_result"
    }
   ],
   "source": [
    "#dataframe after I replaced the original age feature with rescaled result.\n",
    "new_df.head(7)"
   ]
  },
  {
   "cell_type": "code",
   "execution_count": 437,
   "id": "8ee93d46-c073-4ad7-828b-01c11c32b9ea",
   "metadata": {},
   "outputs": [
    {
     "name": "stdout",
     "output_type": "stream",
     "text": [
      "Rescaled age for seventh observation in the data: 0.0\n"
     ]
    }
   ],
   "source": [
    "#rescaled age for the seventh observation in the data\n",
    "print(\"Rescaled age for seventh observation in the data:\", new_df['age'].iloc[6])"
   ]
  },
  {
   "cell_type": "markdown",
   "id": "92517530-6a27-4d50-a571-4cee695c34ad",
   "metadata": {},
   "source": [
    "##### (1.5) Mode of country_of_res feature."
   ]
  },
  {
   "cell_type": "code",
   "execution_count": 440,
   "id": "ff584195-24f6-4723-a7e2-a6de3acc26ea",
   "metadata": {},
   "outputs": [
    {
     "data": {
      "text/plain": [
       "0"
      ]
     },
     "execution_count": 440,
     "metadata": {},
     "output_type": "execute_result"
    }
   ],
   "source": [
    "#checking sum of NA values to drop if any.\n",
    "new_df['country_of_res'].isna().sum() "
   ]
  },
  {
   "cell_type": "code",
   "execution_count": 442,
   "id": "c5cc0235-9d2c-4ab8-8b94-fb9749728c7c",
   "metadata": {},
   "outputs": [
    {
     "name": "stderr",
     "output_type": "stream",
     "text": [
      "/var/folders/8y/_nxp_0_n50q0qqq5tr00vwsr0000gn/T/ipykernel_59251/2154702403.py:2: SettingWithCopyWarning: \n",
      "A value is trying to be set on a copy of a slice from a DataFrame.\n",
      "Try using .loc[row_indexer,col_indexer] = value instead\n",
      "\n",
      "See the caveats in the documentation: https://pandas.pydata.org/pandas-docs/stable/user_guide/indexing.html#returning-a-view-versus-a-copy\n",
      "  new_df['country_of_res'] = new_df['country_of_res'].str.strip()\n"
     ]
    }
   ],
   "source": [
    "#clean whitespaces/inconsistencies\n",
    "new_df['country_of_res'] = new_df['country_of_res'].str.strip() "
   ]
  },
  {
   "cell_type": "code",
   "execution_count": 444,
   "id": "c5adcfe2-6e35-4b3e-92d2-2c0ba9f4949f",
   "metadata": {},
   "outputs": [
    {
     "data": {
      "text/plain": [
       "country_of_res\n",
       "'United States'           113\n",
       "'United Arab Emirates'     82\n",
       "'New Zealand'              81\n",
       "India                      81\n",
       "'United Kingdom'           77\n",
       "                         ... \n",
       "China                       1\n",
       "Chile                       1\n",
       "Lebanon                     1\n",
       "Burundi                     1\n",
       "Cyprus                      1\n",
       "Name: count, Length: 67, dtype: int64"
      ]
     },
     "execution_count": 444,
     "metadata": {},
     "output_type": "execute_result"
    }
   ],
   "source": [
    " #frequency of each country for general understanding\n",
    "new_df['country_of_res'].value_counts()"
   ]
  },
  {
   "cell_type": "code",
   "execution_count": 446,
   "id": "0bab06bc-26f4-43c0-8802-c89e22feda6f",
   "metadata": {},
   "outputs": [],
   "source": [
    "#mode of column country_of_res\n",
    "mode_country = new_df['country_of_res'].mode()[0] "
   ]
  },
  {
   "cell_type": "code",
   "execution_count": 448,
   "id": "d8d622e9-ba2d-44b3-a1ef-b6336c7a52bf",
   "metadata": {},
   "outputs": [
    {
     "name": "stdout",
     "output_type": "stream",
     "text": [
      "Mode of country_of_res feature:  'United States'\n"
     ]
    }
   ],
   "source": [
    "print(\"Mode of country_of_res feature: \", mode_country) #print mode"
   ]
  },
  {
   "cell_type": "markdown",
   "id": "fab22866-c979-4e88-a971-c63a67ad89c8",
   "metadata": {},
   "source": [
    "##### (1.6) Reasonable Imputation of Ethnicity feature"
   ]
  },
  {
   "cell_type": "code",
   "execution_count": 451,
   "id": "71f8b002-0dd8-4ddf-96cc-7112664531ee",
   "metadata": {},
   "outputs": [
    {
     "data": {
      "text/plain": [
       "ethnicity\n",
       "White-European       233\n",
       "Asian                123\n",
       "?                     93\n",
       "'Middle Eastern '     92\n",
       "Black                 43\n",
       "'South Asian'         36\n",
       "Others                30\n",
       "Latino                20\n",
       "Hispanic              13\n",
       "Pasifika              12\n",
       "Turkish                6\n",
       "others                 1\n",
       "Name: count, dtype: int64"
      ]
     },
     "execution_count": 451,
     "metadata": {},
     "output_type": "execute_result"
    }
   ],
   "source": [
    "new_df['ethnicity'].value_counts()"
   ]
  },
  {
   "cell_type": "code",
   "execution_count": 453,
   "id": "0b6613cb-2e14-48bd-84ba-0ee1b78d05cc",
   "metadata": {},
   "outputs": [
    {
     "data": {
      "text/plain": [
       "0"
      ]
     },
     "execution_count": 453,
     "metadata": {},
     "output_type": "execute_result"
    }
   ],
   "source": [
    "#1. checking if any null/NA values exist to remove.\n",
    "new_df['ethnicity'].isna().sum() "
   ]
  },
  {
   "cell_type": "code",
   "execution_count": 455,
   "id": "0f3e062b-1765-4f5b-8bf0-f80fd133d7f5",
   "metadata": {},
   "outputs": [],
   "source": [
    "#2. combine the Others and others category counts.\n",
    "combined = new_df.copy()\n",
    "combined['Others'] = combined.get('Others', 0) + combined.get('others', 0)\n",
    "\n",
    "# Drop the [others] entry\n",
    "combined = combined.drop('others', errors='ignore')"
   ]
  },
  {
   "cell_type": "code",
   "execution_count": 457,
   "id": "981198e3-bf89-4bf3-9ef8-ef82f162ba68",
   "metadata": {},
   "outputs": [
    {
     "name": "stderr",
     "output_type": "stream",
     "text": [
      "/var/folders/8y/_nxp_0_n50q0qqq5tr00vwsr0000gn/T/ipykernel_59251/1450300954.py:2: SettingWithCopyWarning: \n",
      "A value is trying to be set on a copy of a slice from a DataFrame.\n",
      "Try using .loc[row_indexer,col_indexer] = value instead\n",
      "\n",
      "See the caveats in the documentation: https://pandas.pydata.org/pandas-docs/stable/user_guide/indexing.html#returning-a-view-versus-a-copy\n",
      "  new_df['ethnicity'] = new_df['ethnicity'].replace({'others': 'Others'})\n"
     ]
    }
   ],
   "source": [
    "#replace Others and others with a single value of Others\n",
    "new_df['ethnicity'] = new_df['ethnicity'].replace({'others': 'Others'})"
   ]
  },
  {
   "cell_type": "code",
   "execution_count": 459,
   "id": "bb1fcde6-9046-4efa-9a0a-3556a14061c9",
   "metadata": {},
   "outputs": [
    {
     "data": {
      "text/plain": [
       "ethnicity\n",
       "White-European       233\n",
       "Asian                123\n",
       "?                     93\n",
       "'Middle Eastern '     92\n",
       "Black                 43\n",
       "'South Asian'         36\n",
       "Others                31\n",
       "Latino                20\n",
       "Hispanic              13\n",
       "Pasifika              12\n",
       "Turkish                6\n",
       "Name: count, dtype: int64"
      ]
     },
     "execution_count": 459,
     "metadata": {},
     "output_type": "execute_result"
    }
   ],
   "source": [
    "#total count of 31 under category Others\n",
    "new_df['ethnicity'].value_counts()"
   ]
  },
  {
   "cell_type": "markdown",
   "id": "49e0b982-43a6-45b7-a7a1-ea1378f8545c",
   "metadata": {},
   "source": [
    "##### Mode-Based Imputation"
   ]
  },
  {
   "cell_type": "code",
   "execution_count": 462,
   "id": "8b878550-5912-4e34-8dab-b201d0902a95",
   "metadata": {},
   "outputs": [
    {
     "data": {
      "text/plain": [
       "'White-European'"
      ]
     },
     "execution_count": 462,
     "metadata": {},
     "output_type": "execute_result"
    }
   ],
   "source": [
    "mode_ethnicity = new_df['ethnicity'].mode()[0]\n",
    "mode_ethnicity"
   ]
  },
  {
   "cell_type": "code",
   "execution_count": 464,
   "id": "eb53c23c-bd17-425a-8aa8-99757155bfcc",
   "metadata": {},
   "outputs": [
    {
     "name": "stderr",
     "output_type": "stream",
     "text": [
      "/var/folders/8y/_nxp_0_n50q0qqq5tr00vwsr0000gn/T/ipykernel_59251/1503704107.py:2: SettingWithCopyWarning: \n",
      "A value is trying to be set on a copy of a slice from a DataFrame.\n",
      "Try using .loc[row_indexer,col_indexer] = value instead\n",
      "\n",
      "See the caveats in the documentation: https://pandas.pydata.org/pandas-docs/stable/user_guide/indexing.html#returning-a-view-versus-a-copy\n",
      "  new_df['ethnicity'] = new_df['ethnicity'].replace('?', np.nan)\n"
     ]
    }
   ],
   "source": [
    "#replace ? in the dataset with NaN value \n",
    "new_df['ethnicity'] = new_df['ethnicity'].replace('?', np.nan)"
   ]
  },
  {
   "cell_type": "code",
   "execution_count": 466,
   "id": "d5cf79c4-85f5-4192-a9c7-c30847fb8521",
   "metadata": {},
   "outputs": [
    {
     "data": {
      "text/plain": [
       "93"
      ]
     },
     "execution_count": 466,
     "metadata": {},
     "output_type": "execute_result"
    }
   ],
   "source": [
    "#there is 93 null values -- same as number of ?\n",
    "new_df['ethnicity'].isna().sum()"
   ]
  },
  {
   "cell_type": "code",
   "execution_count": 468,
   "id": "db3ada2d-38a7-4600-b154-af995cab688d",
   "metadata": {},
   "outputs": [
    {
     "name": "stderr",
     "output_type": "stream",
     "text": [
      "/var/folders/8y/_nxp_0_n50q0qqq5tr00vwsr0000gn/T/ipykernel_59251/454175902.py:2: SettingWithCopyWarning: \n",
      "A value is trying to be set on a copy of a slice from a DataFrame.\n",
      "Try using .loc[row_indexer,col_indexer] = value instead\n",
      "\n",
      "See the caveats in the documentation: https://pandas.pydata.org/pandas-docs/stable/user_guide/indexing.html#returning-a-view-versus-a-copy\n",
      "  new_df['ethnicity'] = new_df['ethnicity'].fillna(mode_ethnicity)\n"
     ]
    }
   ],
   "source": [
    "#filling null values with the mode computed earlier (White European)\n",
    "new_df['ethnicity'] = new_df['ethnicity'].fillna(mode_ethnicity)"
   ]
  },
  {
   "cell_type": "code",
   "execution_count": 470,
   "id": "4acf012d-f1ea-4ed1-9fc8-c3c87c882641",
   "metadata": {},
   "outputs": [
    {
     "data": {
      "text/plain": [
       "ethnicity\n",
       "White-European       326\n",
       "Asian                123\n",
       "'Middle Eastern '     92\n",
       "Black                 43\n",
       "'South Asian'         36\n",
       "Others                31\n",
       "Latino                20\n",
       "Hispanic              13\n",
       "Pasifika              12\n",
       "Turkish                6\n",
       "Name: count, dtype: int64"
      ]
     },
     "execution_count": 470,
     "metadata": {},
     "output_type": "execute_result"
    }
   ],
   "source": [
    "#the count of White-European increases by 93 after replacing original ethnicity feature with imputated one.\n",
    "ethnicity_count = new_df['ethnicity'].value_counts()\n",
    "ethnicity_count"
   ]
  },
  {
   "cell_type": "markdown",
   "id": "6541309d-0812-4adf-b6fb-adf372cdba53",
   "metadata": {},
   "source": [
    "##### (1.7) Bar Graph of Ethnicity Feature"
   ]
  },
  {
   "cell_type": "code",
   "execution_count": 473,
   "id": "f111140e-1bcb-42a6-bfb8-70697c16362d",
   "metadata": {},
   "outputs": [
    {
     "data": {
      "image/png": "[encoded data removed]",
      "text/plain": [
       "<Figure size 640x480 with 1 Axes>"
      ]
     },
     "metadata": {},
     "output_type": "display_data"
    }
   ],
   "source": [
    "ethnicity_count.plot(kind='bar', color='red')\n",
    "plt.title('Number of Individuals by Ethnicity After Imputation')\n",
    "plt.xlabel('Ethnicity')\n",
    "plt.ylabel('Total Count')\n",
    "plt.show()"
   ]
  },
  {
   "cell_type": "markdown",
   "id": "2545f690-a5db-49e3-87db-587d1bdbf9d7",
   "metadata": {},
   "source": [
    "##### (1.8) Dummy Coding for Gender Feature"
   ]
  },
  {
   "cell_type": "code",
   "execution_count": 476,
   "id": "d5120999-4bd1-4f56-98ff-75262909b487",
   "metadata": {},
   "outputs": [
    {
     "data": {
      "text/html": [
       "<div>\n",
       "<style scoped>\n",
       "    .dataframe tbody tr th:only-of-type {\n",
       "        vertical-align: middle;\n",
       "    }\n",
       "\n",
       "    .dataframe tbody tr th {\n",
       "        vertical-align: top;\n",
       "    }\n",
       "\n",
       "    .dataframe thead th {\n",
       "        text-align: right;\n",
       "    }\n",
       "</style>\n",
       "<table border=\"1\" class=\"dataframe\">\n",
       "  <thead>\n",
       "    <tr style=\"text-align: right;\">\n",
       "      <th></th>\n",
       "      <th>A1_Score</th>\n",
       "      <th>A2_Score</th>\n",
       "      <th>A3_Score</th>\n",
       "      <th>A4_Score</th>\n",
       "      <th>A5_Score</th>\n",
       "      <th>A6_Score</th>\n",
       "      <th>A7_Score</th>\n",
       "      <th>A8_Score</th>\n",
       "      <th>A9_Score</th>\n",
       "      <th>A10_Score</th>\n",
       "      <th>age</th>\n",
       "      <th>gender</th>\n",
       "      <th>ethnicity</th>\n",
       "      <th>jaundice</th>\n",
       "      <th>austim</th>\n",
       "      <th>country_of_res</th>\n",
       "      <th>used_app_before</th>\n",
       "      <th>relation</th>\n",
       "      <th>Class/ASD</th>\n",
       "    </tr>\n",
       "  </thead>\n",
       "  <tbody>\n",
       "    <tr>\n",
       "      <th>0</th>\n",
       "      <td>1</td>\n",
       "      <td>1</td>\n",
       "      <td>1</td>\n",
       "      <td>1</td>\n",
       "      <td>0</td>\n",
       "      <td>0</td>\n",
       "      <td>1</td>\n",
       "      <td>1</td>\n",
       "      <td>0</td>\n",
       "      <td>0</td>\n",
       "      <td>0.024590</td>\n",
       "      <td>f</td>\n",
       "      <td>White-European</td>\n",
       "      <td>no</td>\n",
       "      <td>no</td>\n",
       "      <td>'United States'</td>\n",
       "      <td>no</td>\n",
       "      <td>Self</td>\n",
       "      <td>NO</td>\n",
       "    </tr>\n",
       "    <tr>\n",
       "      <th>1</th>\n",
       "      <td>1</td>\n",
       "      <td>1</td>\n",
       "      <td>0</td>\n",
       "      <td>1</td>\n",
       "      <td>0</td>\n",
       "      <td>0</td>\n",
       "      <td>0</td>\n",
       "      <td>1</td>\n",
       "      <td>0</td>\n",
       "      <td>1</td>\n",
       "      <td>0.019126</td>\n",
       "      <td>m</td>\n",
       "      <td>Latino</td>\n",
       "      <td>no</td>\n",
       "      <td>yes</td>\n",
       "      <td>Brazil</td>\n",
       "      <td>no</td>\n",
       "      <td>Self</td>\n",
       "      <td>NO</td>\n",
       "    </tr>\n",
       "    <tr>\n",
       "      <th>2</th>\n",
       "      <td>1</td>\n",
       "      <td>1</td>\n",
       "      <td>0</td>\n",
       "      <td>1</td>\n",
       "      <td>1</td>\n",
       "      <td>0</td>\n",
       "      <td>1</td>\n",
       "      <td>1</td>\n",
       "      <td>1</td>\n",
       "      <td>1</td>\n",
       "      <td>0.027322</td>\n",
       "      <td>m</td>\n",
       "      <td>Latino</td>\n",
       "      <td>yes</td>\n",
       "      <td>yes</td>\n",
       "      <td>Spain</td>\n",
       "      <td>no</td>\n",
       "      <td>Parent</td>\n",
       "      <td>YES</td>\n",
       "    </tr>\n",
       "    <tr>\n",
       "      <th>3</th>\n",
       "      <td>1</td>\n",
       "      <td>1</td>\n",
       "      <td>0</td>\n",
       "      <td>1</td>\n",
       "      <td>0</td>\n",
       "      <td>0</td>\n",
       "      <td>1</td>\n",
       "      <td>1</td>\n",
       "      <td>0</td>\n",
       "      <td>1</td>\n",
       "      <td>0.049180</td>\n",
       "      <td>f</td>\n",
       "      <td>White-European</td>\n",
       "      <td>no</td>\n",
       "      <td>yes</td>\n",
       "      <td>'United States'</td>\n",
       "      <td>no</td>\n",
       "      <td>Self</td>\n",
       "      <td>NO</td>\n",
       "    </tr>\n",
       "    <tr>\n",
       "      <th>4</th>\n",
       "      <td>1</td>\n",
       "      <td>0</td>\n",
       "      <td>0</td>\n",
       "      <td>0</td>\n",
       "      <td>0</td>\n",
       "      <td>0</td>\n",
       "      <td>0</td>\n",
       "      <td>1</td>\n",
       "      <td>0</td>\n",
       "      <td>0</td>\n",
       "      <td>0.062842</td>\n",
       "      <td>f</td>\n",
       "      <td>White-European</td>\n",
       "      <td>no</td>\n",
       "      <td>no</td>\n",
       "      <td>Egypt</td>\n",
       "      <td>no</td>\n",
       "      <td>?</td>\n",
       "      <td>NO</td>\n",
       "    </tr>\n",
       "  </tbody>\n",
       "</table>\n",
       "</div>"
      ],
      "text/plain": [
       "   A1_Score  A2_Score  A3_Score  A4_Score  A5_Score  A6_Score  A7_Score  \\\n",
       "0         1         1         1         1         0         0         1   \n",
       "1         1         1         0         1         0         0         0   \n",
       "2         1         1         0         1         1         0         1   \n",
       "3         1         1         0         1         0         0         1   \n",
       "4         1         0         0         0         0         0         0   \n",
       "\n",
       "   A8_Score  A9_Score  A10_Score       age gender       ethnicity jaundice  \\\n",
       "0         1         0          0  0.024590      f  White-European       no   \n",
       "1         1         0          1  0.019126      m          Latino       no   \n",
       "2         1         1          1  0.027322      m          Latino      yes   \n",
       "3         1         0          1  0.049180      f  White-European       no   \n",
       "4         1         0          0  0.062842      f  White-European       no   \n",
       "\n",
       "  austim   country_of_res used_app_before relation Class/ASD  \n",
       "0     no  'United States'              no     Self        NO  \n",
       "1    yes           Brazil              no     Self        NO  \n",
       "2    yes            Spain              no   Parent       YES  \n",
       "3    yes  'United States'              no     Self        NO  \n",
       "4     no            Egypt              no        ?        NO  "
      ]
     },
     "execution_count": 476,
     "metadata": {},
     "output_type": "execute_result"
    }
   ],
   "source": [
    "new_df.head()"
   ]
  },
  {
   "cell_type": "code",
   "execution_count": 478,
   "id": "3ef109a7-de5a-44db-a575-917c281ae5f3",
   "metadata": {},
   "outputs": [
    {
     "data": {
      "text/plain": [
       "gender\n",
       "m    366\n",
       "f    336\n",
       "Name: count, dtype: int64"
      ]
     },
     "execution_count": 478,
     "metadata": {},
     "output_type": "execute_result"
    }
   ],
   "source": [
    "new_df['gender'].value_counts()"
   ]
  },
  {
   "cell_type": "code",
   "execution_count": 480,
   "id": "80a4ab6f-d356-470f-8bc5-51338796210b",
   "metadata": {},
   "outputs": [
    {
     "name": "stderr",
     "output_type": "stream",
     "text": [
      "/var/folders/8y/_nxp_0_n50q0qqq5tr00vwsr0000gn/T/ipykernel_59251/3137008958.py:2: SettingWithCopyWarning: \n",
      "A value is trying to be set on a copy of a slice from a DataFrame.\n",
      "Try using .loc[row_indexer,col_indexer] = value instead\n",
      "\n",
      "See the caveats in the documentation: https://pandas.pydata.org/pandas-docs/stable/user_guide/indexing.html#returning-a-view-versus-a-copy\n",
      "  new_df['gender'] = new_df['gender'].astype('category')\n"
     ]
    }
   ],
   "source": [
    "#convert the gender column into a categorical column\n",
    "new_df['gender'] = new_df['gender'].astype('category')"
   ]
  },
  {
   "cell_type": "code",
   "execution_count": 482,
   "id": "f922fd71-287c-4a36-a110-9d4b4b3908ac",
   "metadata": {},
   "outputs": [],
   "source": [
    "#include column to dummy code, drop_first to True, and print 1 and 0 instead of True and False\n",
    "new_df = pd.get_dummies(new_df, columns=['gender'], drop_first=True, dtype=int)"
   ]
  },
  {
   "cell_type": "code",
   "execution_count": 484,
   "id": "f35f36b8-0426-4d9b-afee-11cc1909b644",
   "metadata": {},
   "outputs": [
    {
     "name": "stdout",
     "output_type": "stream",
     "text": [
      "     gender_m\n",
      "694         1\n",
      "695         1\n",
      "696         1\n",
      "697         0\n",
      "698         0\n",
      "699         0\n",
      "700         1\n",
      "701         0\n",
      "702         1\n",
      "703         0\n"
     ]
    }
   ],
   "source": [
    "#print last 10 values\n",
    "last10 = new_df.filter(regex='^gender_').tail(10)\n",
    "print(last10)"
   ]
  },
  {
   "cell_type": "markdown",
   "id": "b6e89b9d-0568-4fb8-b3d1-9fca02fb85b4",
   "metadata": {},
   "source": [
    "##### (1.9) Discrete Features vs Continuous Features"
   ]
  },
  {
   "cell_type": "code",
   "execution_count": 516,
   "id": "09a8d9c8-2405-4413-93b4-f79708bc354a",
   "metadata": {},
   "outputs": [
    {
     "data": {
      "text/html": [
       "<div>\n",
       "<style scoped>\n",
       "    .dataframe tbody tr th:only-of-type {\n",
       "        vertical-align: middle;\n",
       "    }\n",
       "\n",
       "    .dataframe tbody tr th {\n",
       "        vertical-align: top;\n",
       "    }\n",
       "\n",
       "    .dataframe thead th {\n",
       "        text-align: right;\n",
       "    }\n",
       "</style>\n",
       "<table border=\"1\" class=\"dataframe\">\n",
       "  <thead>\n",
       "    <tr style=\"text-align: right;\">\n",
       "      <th></th>\n",
       "      <th>A1_Score</th>\n",
       "      <th>A2_Score</th>\n",
       "      <th>A3_Score</th>\n",
       "      <th>A4_Score</th>\n",
       "      <th>A5_Score</th>\n",
       "      <th>A6_Score</th>\n",
       "      <th>A7_Score</th>\n",
       "      <th>A8_Score</th>\n",
       "      <th>A9_Score</th>\n",
       "      <th>A10_Score</th>\n",
       "      <th>age</th>\n",
       "      <th>ethnicity</th>\n",
       "      <th>jaundice</th>\n",
       "      <th>austim</th>\n",
       "      <th>country_of_res</th>\n",
       "      <th>used_app_before</th>\n",
       "      <th>relation</th>\n",
       "      <th>Class/ASD</th>\n",
       "      <th>gender_m</th>\n",
       "    </tr>\n",
       "  </thead>\n",
       "  <tbody>\n",
       "    <tr>\n",
       "      <th>0</th>\n",
       "      <td>1</td>\n",
       "      <td>1</td>\n",
       "      <td>1</td>\n",
       "      <td>1</td>\n",
       "      <td>0</td>\n",
       "      <td>0</td>\n",
       "      <td>1</td>\n",
       "      <td>1</td>\n",
       "      <td>0</td>\n",
       "      <td>0</td>\n",
       "      <td>0.024590</td>\n",
       "      <td>White-European</td>\n",
       "      <td>no</td>\n",
       "      <td>no</td>\n",
       "      <td>'United States'</td>\n",
       "      <td>no</td>\n",
       "      <td>Self</td>\n",
       "      <td>NO</td>\n",
       "      <td>0</td>\n",
       "    </tr>\n",
       "    <tr>\n",
       "      <th>1</th>\n",
       "      <td>1</td>\n",
       "      <td>1</td>\n",
       "      <td>0</td>\n",
       "      <td>1</td>\n",
       "      <td>0</td>\n",
       "      <td>0</td>\n",
       "      <td>0</td>\n",
       "      <td>1</td>\n",
       "      <td>0</td>\n",
       "      <td>1</td>\n",
       "      <td>0.019126</td>\n",
       "      <td>Latino</td>\n",
       "      <td>no</td>\n",
       "      <td>yes</td>\n",
       "      <td>Brazil</td>\n",
       "      <td>no</td>\n",
       "      <td>Self</td>\n",
       "      <td>NO</td>\n",
       "      <td>1</td>\n",
       "    </tr>\n",
       "    <tr>\n",
       "      <th>2</th>\n",
       "      <td>1</td>\n",
       "      <td>1</td>\n",
       "      <td>0</td>\n",
       "      <td>1</td>\n",
       "      <td>1</td>\n",
       "      <td>0</td>\n",
       "      <td>1</td>\n",
       "      <td>1</td>\n",
       "      <td>1</td>\n",
       "      <td>1</td>\n",
       "      <td>0.027322</td>\n",
       "      <td>Latino</td>\n",
       "      <td>yes</td>\n",
       "      <td>yes</td>\n",
       "      <td>Spain</td>\n",
       "      <td>no</td>\n",
       "      <td>Parent</td>\n",
       "      <td>YES</td>\n",
       "      <td>1</td>\n",
       "    </tr>\n",
       "    <tr>\n",
       "      <th>3</th>\n",
       "      <td>1</td>\n",
       "      <td>1</td>\n",
       "      <td>0</td>\n",
       "      <td>1</td>\n",
       "      <td>0</td>\n",
       "      <td>0</td>\n",
       "      <td>1</td>\n",
       "      <td>1</td>\n",
       "      <td>0</td>\n",
       "      <td>1</td>\n",
       "      <td>0.049180</td>\n",
       "      <td>White-European</td>\n",
       "      <td>no</td>\n",
       "      <td>yes</td>\n",
       "      <td>'United States'</td>\n",
       "      <td>no</td>\n",
       "      <td>Self</td>\n",
       "      <td>NO</td>\n",
       "      <td>0</td>\n",
       "    </tr>\n",
       "    <tr>\n",
       "      <th>4</th>\n",
       "      <td>1</td>\n",
       "      <td>0</td>\n",
       "      <td>0</td>\n",
       "      <td>0</td>\n",
       "      <td>0</td>\n",
       "      <td>0</td>\n",
       "      <td>0</td>\n",
       "      <td>1</td>\n",
       "      <td>0</td>\n",
       "      <td>0</td>\n",
       "      <td>0.062842</td>\n",
       "      <td>White-European</td>\n",
       "      <td>no</td>\n",
       "      <td>no</td>\n",
       "      <td>Egypt</td>\n",
       "      <td>no</td>\n",
       "      <td>?</td>\n",
       "      <td>NO</td>\n",
       "      <td>0</td>\n",
       "    </tr>\n",
       "  </tbody>\n",
       "</table>\n",
       "</div>"
      ],
      "text/plain": [
       "   A1_Score  A2_Score  A3_Score  A4_Score  A5_Score  A6_Score  A7_Score  \\\n",
       "0         1         1         1         1         0         0         1   \n",
       "1         1         1         0         1         0         0         0   \n",
       "2         1         1         0         1         1         0         1   \n",
       "3         1         1         0         1         0         0         1   \n",
       "4         1         0         0         0         0         0         0   \n",
       "\n",
       "   A8_Score  A9_Score  A10_Score       age       ethnicity jaundice austim  \\\n",
       "0         1         0          0  0.024590  White-European       no     no   \n",
       "1         1         0          1  0.019126          Latino       no    yes   \n",
       "2         1         1          1  0.027322          Latino      yes    yes   \n",
       "3         1         0          1  0.049180  White-European       no    yes   \n",
       "4         1         0          0  0.062842  White-European       no     no   \n",
       "\n",
       "    country_of_res used_app_before relation Class/ASD  gender_m  \n",
       "0  'United States'              no     Self        NO         0  \n",
       "1           Brazil              no     Self        NO         1  \n",
       "2            Spain              no   Parent       YES         1  \n",
       "3  'United States'              no     Self        NO         0  \n",
       "4            Egypt              no        ?        NO         0  "
      ]
     },
     "execution_count": 516,
     "metadata": {},
     "output_type": "execute_result"
    }
   ],
   "source": [
    "new_df.head()"
   ]
  },
  {
   "cell_type": "code",
   "execution_count": 556,
   "id": "d48d820f-1f1c-442d-ab57-57ec1ecd9e0d",
   "metadata": {},
   "outputs": [
    {
     "name": "stdout",
     "output_type": "stream",
     "text": [
      "Discrete features: ['A1_Score', 'A2_Score', 'A3_Score', 'A4_Score', 'A5_Score', 'A6_Score', 'A7_Score', 'A8_Score', 'A9_Score', 'A10_Score', 'ethnicity', 'jaundice', 'austim', 'country_of_res', 'used_app_before', 'relation', 'Class/ASD', 'gender_m']\n",
      "\n",
      "Continuous features: ['age']\n"
     ]
    }
   ],
   "source": [
    "def classify_col(column):\n",
    "    #if non-numeric data type then discrete automatically\n",
    "    if not pd.api.types.is_numeric_dtype(column):\n",
    "        return \"discrete\"\n",
    "\n",
    "    #finding total unique values in each feature and seeing if they are less than or equal to 10. If so then, dicrete\n",
    "    total_unique = column.nunique()\n",
    "    if total_unique <= 10:\n",
    "        return \"discrete\" \n",
    "    else:\n",
    "        return \"continuous\"\n",
    "\n",
    "#classifying each column\n",
    "feature_type = {col: classify_col(new_df[col]) for col in new_df.columns}\n",
    "\n",
    "# Separate features by type\n",
    "discrete_feats = [k for k, v in feature_type.items() if v == \"discrete\"]\n",
    "continuous_feats = [k for k, v in feature_type.items() if v == \"continuous\"]\n",
    "\n",
    "#print result\n",
    "print(\"Discrete features:\", discrete_feats)\n",
    "print(\"\\nContinuous features:\", continuous_feats)"
   ]
  },
  {
   "cell_type": "markdown",
   "id": "bde8ff54-35ca-42ea-9b8d-f4d05864e0bd",
   "metadata": {},
   "source": [
    "##### (1.10) Numeric vs Non-Numeric Features"
   ]
  },
  {
   "cell_type": "code",
   "execution_count": 559,
   "id": "7b5a4fa1-b81a-4854-9fa8-c69b0b8cd022",
   "metadata": {},
   "outputs": [],
   "source": [
    "numeric_features = new_df.select_dtypes(include='number')\n",
    "non_numeric_features = new_df.select_dtypes(exclude='number')"
   ]
  },
  {
   "cell_type": "code",
   "execution_count": 561,
   "id": "fb9215b2-c57e-474e-9cef-55872be64199",
   "metadata": {},
   "outputs": [
    {
     "name": "stdout",
     "output_type": "stream",
     "text": [
      "Numeric features: ['A1_Score', 'A2_Score', 'A3_Score', 'A4_Score', 'A5_Score', 'A6_Score', 'A7_Score', 'A8_Score', 'A9_Score', 'A10_Score', 'age', 'gender_m']\n",
      "\n",
      "Non-Numeric features: ['ethnicity', 'jaundice', 'austim', 'country_of_res', 'used_app_before', 'relation', 'Class/ASD']\n"
     ]
    }
   ],
   "source": [
    "#print result\n",
    "print(\"Numeric features:\", numeric_features.columns.tolist())\n",
    "print(\"\\nNon-Numeric features:\", non_numeric_features.columns.tolist())"
   ]
  },
  {
   "cell_type": "markdown",
   "id": "e61db230-0350-4d63-a688-020aa359b9aa",
   "metadata": {},
   "source": [
    "##### (1.11) First 4 observations of the data"
   ]
  },
  {
   "cell_type": "code",
   "execution_count": 564,
   "id": "c16a6b1f-2db0-4346-a087-e6485588874f",
   "metadata": {},
   "outputs": [
    {
     "data": {
      "text/html": [
       "<div>\n",
       "<style scoped>\n",
       "    .dataframe tbody tr th:only-of-type {\n",
       "        vertical-align: middle;\n",
       "    }\n",
       "\n",
       "    .dataframe tbody tr th {\n",
       "        vertical-align: top;\n",
       "    }\n",
       "\n",
       "    .dataframe thead th {\n",
       "        text-align: right;\n",
       "    }\n",
       "</style>\n",
       "<table border=\"1\" class=\"dataframe\">\n",
       "  <thead>\n",
       "    <tr style=\"text-align: right;\">\n",
       "      <th></th>\n",
       "      <th>A1_Score</th>\n",
       "      <th>A2_Score</th>\n",
       "      <th>A3_Score</th>\n",
       "      <th>A4_Score</th>\n",
       "      <th>A5_Score</th>\n",
       "      <th>A6_Score</th>\n",
       "      <th>A7_Score</th>\n",
       "      <th>A8_Score</th>\n",
       "      <th>A9_Score</th>\n",
       "      <th>A10_Score</th>\n",
       "      <th>age</th>\n",
       "      <th>ethnicity</th>\n",
       "      <th>jaundice</th>\n",
       "      <th>austim</th>\n",
       "      <th>country_of_res</th>\n",
       "      <th>used_app_before</th>\n",
       "      <th>relation</th>\n",
       "      <th>Class/ASD</th>\n",
       "      <th>gender_m</th>\n",
       "    </tr>\n",
       "  </thead>\n",
       "  <tbody>\n",
       "    <tr>\n",
       "      <th>0</th>\n",
       "      <td>1</td>\n",
       "      <td>1</td>\n",
       "      <td>1</td>\n",
       "      <td>1</td>\n",
       "      <td>0</td>\n",
       "      <td>0</td>\n",
       "      <td>1</td>\n",
       "      <td>1</td>\n",
       "      <td>0</td>\n",
       "      <td>0</td>\n",
       "      <td>0.024590</td>\n",
       "      <td>White-European</td>\n",
       "      <td>no</td>\n",
       "      <td>no</td>\n",
       "      <td>'United States'</td>\n",
       "      <td>no</td>\n",
       "      <td>Self</td>\n",
       "      <td>NO</td>\n",
       "      <td>0</td>\n",
       "    </tr>\n",
       "    <tr>\n",
       "      <th>1</th>\n",
       "      <td>1</td>\n",
       "      <td>1</td>\n",
       "      <td>0</td>\n",
       "      <td>1</td>\n",
       "      <td>0</td>\n",
       "      <td>0</td>\n",
       "      <td>0</td>\n",
       "      <td>1</td>\n",
       "      <td>0</td>\n",
       "      <td>1</td>\n",
       "      <td>0.019126</td>\n",
       "      <td>Latino</td>\n",
       "      <td>no</td>\n",
       "      <td>yes</td>\n",
       "      <td>Brazil</td>\n",
       "      <td>no</td>\n",
       "      <td>Self</td>\n",
       "      <td>NO</td>\n",
       "      <td>1</td>\n",
       "    </tr>\n",
       "    <tr>\n",
       "      <th>2</th>\n",
       "      <td>1</td>\n",
       "      <td>1</td>\n",
       "      <td>0</td>\n",
       "      <td>1</td>\n",
       "      <td>1</td>\n",
       "      <td>0</td>\n",
       "      <td>1</td>\n",
       "      <td>1</td>\n",
       "      <td>1</td>\n",
       "      <td>1</td>\n",
       "      <td>0.027322</td>\n",
       "      <td>Latino</td>\n",
       "      <td>yes</td>\n",
       "      <td>yes</td>\n",
       "      <td>Spain</td>\n",
       "      <td>no</td>\n",
       "      <td>Parent</td>\n",
       "      <td>YES</td>\n",
       "      <td>1</td>\n",
       "    </tr>\n",
       "    <tr>\n",
       "      <th>3</th>\n",
       "      <td>1</td>\n",
       "      <td>1</td>\n",
       "      <td>0</td>\n",
       "      <td>1</td>\n",
       "      <td>0</td>\n",
       "      <td>0</td>\n",
       "      <td>1</td>\n",
       "      <td>1</td>\n",
       "      <td>0</td>\n",
       "      <td>1</td>\n",
       "      <td>0.049180</td>\n",
       "      <td>White-European</td>\n",
       "      <td>no</td>\n",
       "      <td>yes</td>\n",
       "      <td>'United States'</td>\n",
       "      <td>no</td>\n",
       "      <td>Self</td>\n",
       "      <td>NO</td>\n",
       "      <td>0</td>\n",
       "    </tr>\n",
       "  </tbody>\n",
       "</table>\n",
       "</div>"
      ],
      "text/plain": [
       "   A1_Score  A2_Score  A3_Score  A4_Score  A5_Score  A6_Score  A7_Score  \\\n",
       "0         1         1         1         1         0         0         1   \n",
       "1         1         1         0         1         0         0         0   \n",
       "2         1         1         0         1         1         0         1   \n",
       "3         1         1         0         1         0         0         1   \n",
       "\n",
       "   A8_Score  A9_Score  A10_Score       age       ethnicity jaundice austim  \\\n",
       "0         1         0          0  0.024590  White-European       no     no   \n",
       "1         1         0          1  0.019126          Latino       no    yes   \n",
       "2         1         1          1  0.027322          Latino      yes    yes   \n",
       "3         1         0          1  0.049180  White-European       no    yes   \n",
       "\n",
       "    country_of_res used_app_before relation Class/ASD  gender_m  \n",
       "0  'United States'              no     Self        NO         0  \n",
       "1           Brazil              no     Self        NO         1  \n",
       "2            Spain              no   Parent       YES         1  \n",
       "3  'United States'              no     Self        NO         0  "
      ]
     },
     "execution_count": 564,
     "metadata": {},
     "output_type": "execute_result"
    }
   ],
   "source": [
    "new_df.head(4)"
   ]
  },
  {
   "cell_type": "markdown",
   "id": "7b9568a3-6d47-4a35-b37a-8f2d304d5781",
   "metadata": {},
   "source": [
    "#### Part 2 - Correlation.csv"
   ]
  },
  {
   "cell_type": "code",
   "execution_count": 620,
   "id": "82cc5d94-5afc-456b-bcb7-da806652b5ff",
   "metadata": {},
   "outputs": [
    {
     "data": {
      "text/html": [
       "<div>\n",
       "<style scoped>\n",
       "    .dataframe tbody tr th:only-of-type {\n",
       "        vertical-align: middle;\n",
       "    }\n",
       "\n",
       "    .dataframe tbody tr th {\n",
       "        vertical-align: top;\n",
       "    }\n",
       "\n",
       "    .dataframe thead th {\n",
       "        text-align: right;\n",
       "    }\n",
       "</style>\n",
       "<table border=\"1\" class=\"dataframe\">\n",
       "  <thead>\n",
       "    <tr style=\"text-align: right;\">\n",
       "      <th></th>\n",
       "      <th>A1</th>\n",
       "      <th>A2</th>\n",
       "      <th>A3</th>\n",
       "      <th>A4</th>\n",
       "      <th>A5</th>\n",
       "    </tr>\n",
       "  </thead>\n",
       "  <tbody>\n",
       "    <tr>\n",
       "      <th>0</th>\n",
       "      <td>24</td>\n",
       "      <td>25.3</td>\n",
       "      <td>84.0</td>\n",
       "      <td>198</td>\n",
       "      <td>202</td>\n",
       "    </tr>\n",
       "    <tr>\n",
       "      <th>1</th>\n",
       "      <td>50</td>\n",
       "      <td>23.0</td>\n",
       "      <td>101.0</td>\n",
       "      <td>192</td>\n",
       "      <td>489</td>\n",
       "    </tr>\n",
       "    <tr>\n",
       "      <th>2</th>\n",
       "      <td>23</td>\n",
       "      <td>22.6</td>\n",
       "      <td>89.0</td>\n",
       "      <td>139</td>\n",
       "      <td>1216</td>\n",
       "    </tr>\n",
       "    <tr>\n",
       "      <th>3</th>\n",
       "      <td>22</td>\n",
       "      <td>18.6</td>\n",
       "      <td>97.0</td>\n",
       "      <td>114</td>\n",
       "      <td>182</td>\n",
       "    </tr>\n",
       "    <tr>\n",
       "      <th>4</th>\n",
       "      <td>56</td>\n",
       "      <td>28.0</td>\n",
       "      <td>85.0</td>\n",
       "      <td>184</td>\n",
       "      <td>525</td>\n",
       "    </tr>\n",
       "  </tbody>\n",
       "</table>\n",
       "</div>"
      ],
      "text/plain": [
       "   A1    A2     A3   A4    A5\n",
       "0  24  25.3   84.0  198   202\n",
       "1  50  23.0  101.0  192   489\n",
       "2  23  22.6   89.0  139  1216\n",
       "3  22  18.6   97.0  114   182\n",
       "4  56  28.0   85.0  184   525"
      ]
     },
     "execution_count": 620,
     "metadata": {},
     "output_type": "execute_result"
    }
   ],
   "source": [
    "corr_df = pd.read_csv('correlation.csv')\n",
    "corr_df.head()"
   ]
  },
  {
   "cell_type": "markdown",
   "id": "7b39d2b1-1ff1-4a89-b0f8-d7c12a3344ea",
   "metadata": {},
   "source": [
    "##### (2.1) Scatterplot of A1 vs A5 Feature"
   ]
  },
  {
   "cell_type": "code",
   "execution_count": 623,
   "id": "bf0bc55d-3062-4b22-a2ac-9993e9087a0f",
   "metadata": {},
   "outputs": [
    {
     "data": {
      "text/plain": [
       "0"
      ]
     },
     "execution_count": 623,
     "metadata": {},
     "output_type": "execute_result"
    }
   ],
   "source": [
    "corr_df['A1'].isna().sum() #Remove rows that contain missing values in either feature before plotting (no na values to drop here)"
   ]
  },
  {
   "cell_type": "code",
   "execution_count": 625,
   "id": "577e2bbc-f2b6-4ef5-adc8-ee3b3144ee63",
   "metadata": {},
   "outputs": [
    {
     "data": {
      "text/plain": [
       "0"
      ]
     },
     "execution_count": 625,
     "metadata": {},
     "output_type": "execute_result"
    }
   ],
   "source": [
    "corr_df['A5'].isna().sum() #Remove rows that contain missing values in either feature before plotting (no na values to drop here)"
   ]
  },
  {
   "cell_type": "code",
   "execution_count": 627,
   "id": "bd4f91ca-d5b4-40b9-85ea-1f539e2f5afd",
   "metadata": {},
   "outputs": [
    {
     "data": {
      "text/plain": [
       "A1      int64\n",
       "A2    float64\n",
       "A3    float64\n",
       "A4      int64\n",
       "A5      int64\n",
       "dtype: object"
      ]
     },
     "execution_count": 627,
     "metadata": {},
     "output_type": "execute_result"
    }
   ],
   "source": [
    "corr_df.dtypes #ensure both features are numeric so that scatterplot has meaningful axes."
   ]
  },
  {
   "cell_type": "code",
   "execution_count": 629,
   "id": "1a5a8d0b-2e25-4639-8241-639e6d70e65d",
   "metadata": {},
   "outputs": [],
   "source": [
    "# Create a scatterplot with a least-squares trend line.\n",
    "x = corr_df['A1']\n",
    "y = corr_df['A5']"
   ]
  },
  {
   "cell_type": "code",
   "execution_count": 631,
   "id": "0f22d70f-3fce-4f12-b40b-d241388b8a83",
   "metadata": {},
   "outputs": [
    {
     "data": {
      "image/png": "[encoded data removed]",
      "text/plain": [
       "<Figure size 640x480 with 1 Axes>"
      ]
     },
     "metadata": {},
     "output_type": "display_data"
    }
   ],
   "source": [
    "#trend line computation\n",
    "m, b = np.polyfit(x, y, 1)\n",
    "plt.scatter(x, y)\n",
    "\n",
    "#regression line\n",
    "plt.plot(x, m*x+b, color='red', linewidth=0.8)\n",
    "\n",
    "plt.xlabel('A1')\n",
    "plt.ylabel('A5')\n",
    "plt.title('A1 vs A5 Scatterplot')\n",
    "plt.show()"
   ]
  },
  {
   "cell_type": "markdown",
   "id": "9ff2dc2d-a99f-467e-b480-501bc13c3067",
   "metadata": {},
   "source": [
    "##### (2.2) Correlation Matrix for all 5 Features"
   ]
  },
  {
   "cell_type": "code",
   "execution_count": 657,
   "id": "ca355f44-4aad-49e8-8e17-8f9769e9b30d",
   "metadata": {},
   "outputs": [],
   "source": [
    "corr_matrix = corr_df.corr()"
   ]
  },
  {
   "cell_type": "code",
   "execution_count": 659,
   "id": "0d1bdd3f-abb8-4d95-826f-1db428338849",
   "metadata": {},
   "outputs": [
    {
     "data": {
      "text/html": [
       "<div>\n",
       "<style scoped>\n",
       "    .dataframe tbody tr th:only-of-type {\n",
       "        vertical-align: middle;\n",
       "    }\n",
       "\n",
       "    .dataframe tbody tr th {\n",
       "        vertical-align: top;\n",
       "    }\n",
       "\n",
       "    .dataframe thead th {\n",
       "        text-align: right;\n",
       "    }\n",
       "</style>\n",
       "<table border=\"1\" class=\"dataframe\">\n",
       "  <thead>\n",
       "    <tr style=\"text-align: right;\">\n",
       "      <th></th>\n",
       "      <th>A1</th>\n",
       "      <th>A2</th>\n",
       "      <th>A3</th>\n",
       "      <th>A4</th>\n",
       "      <th>A5</th>\n",
       "    </tr>\n",
       "  </thead>\n",
       "  <tbody>\n",
       "    <tr>\n",
       "      <th>A1</th>\n",
       "      <td>1.000000</td>\n",
       "      <td>0.178809</td>\n",
       "      <td>0.289642</td>\n",
       "      <td>0.177180</td>\n",
       "      <td>0.452410</td>\n",
       "    </tr>\n",
       "    <tr>\n",
       "      <th>A2</th>\n",
       "      <td>0.178809</td>\n",
       "      <td>1.000000</td>\n",
       "      <td>0.464543</td>\n",
       "      <td>0.340135</td>\n",
       "      <td>0.042353</td>\n",
       "    </tr>\n",
       "    <tr>\n",
       "      <th>A3</th>\n",
       "      <td>0.289642</td>\n",
       "      <td>0.464543</td>\n",
       "      <td>1.000000</td>\n",
       "      <td>0.293797</td>\n",
       "      <td>0.194514</td>\n",
       "    </tr>\n",
       "    <tr>\n",
       "      <th>A4</th>\n",
       "      <td>0.177180</td>\n",
       "      <td>0.340135</td>\n",
       "      <td>0.293797</td>\n",
       "      <td>1.000000</td>\n",
       "      <td>0.061863</td>\n",
       "    </tr>\n",
       "    <tr>\n",
       "      <th>A5</th>\n",
       "      <td>0.452410</td>\n",
       "      <td>0.042353</td>\n",
       "      <td>0.194514</td>\n",
       "      <td>0.061863</td>\n",
       "      <td>1.000000</td>\n",
       "    </tr>\n",
       "  </tbody>\n",
       "</table>\n",
       "</div>"
      ],
      "text/plain": [
       "          A1        A2        A3        A4        A5\n",
       "A1  1.000000  0.178809  0.289642  0.177180  0.452410\n",
       "A2  0.178809  1.000000  0.464543  0.340135  0.042353\n",
       "A3  0.289642  0.464543  1.000000  0.293797  0.194514\n",
       "A4  0.177180  0.340135  0.293797  1.000000  0.061863\n",
       "A5  0.452410  0.042353  0.194514  0.061863  1.000000"
      ]
     },
     "execution_count": 659,
     "metadata": {},
     "output_type": "execute_result"
    }
   ],
   "source": [
    "corr_matrix"
   ]
  },
  {
   "cell_type": "markdown",
   "id": "e206555a-5c7a-4bd3-acd5-8fe44b07a8a5",
   "metadata": {},
   "source": [
    "##### (2.3)Strongest Correlation, Factors Involved, and Correlation Type"
   ]
  },
  {
   "cell_type": "code",
   "execution_count": 668,
   "id": "a53f24d6-1bd4-48cd-b091-4b82227afb59",
   "metadata": {},
   "outputs": [
    {
     "data": {
      "text/html": [
       "<div>\n",
       "<style scoped>\n",
       "    .dataframe tbody tr th:only-of-type {\n",
       "        vertical-align: middle;\n",
       "    }\n",
       "\n",
       "    .dataframe tbody tr th {\n",
       "        vertical-align: top;\n",
       "    }\n",
       "\n",
       "    .dataframe thead th {\n",
       "        text-align: right;\n",
       "    }\n",
       "</style>\n",
       "<table border=\"1\" class=\"dataframe\">\n",
       "  <thead>\n",
       "    <tr style=\"text-align: right;\">\n",
       "      <th></th>\n",
       "      <th>level_0</th>\n",
       "      <th>level_1</th>\n",
       "      <th>0</th>\n",
       "    </tr>\n",
       "  </thead>\n",
       "  <tbody>\n",
       "    <tr>\n",
       "      <th>0</th>\n",
       "      <td>A1</td>\n",
       "      <td>A2</td>\n",
       "      <td>0.178809</td>\n",
       "    </tr>\n",
       "    <tr>\n",
       "      <th>1</th>\n",
       "      <td>A1</td>\n",
       "      <td>A3</td>\n",
       "      <td>0.289642</td>\n",
       "    </tr>\n",
       "    <tr>\n",
       "      <th>2</th>\n",
       "      <td>A1</td>\n",
       "      <td>A4</td>\n",
       "      <td>0.177180</td>\n",
       "    </tr>\n",
       "    <tr>\n",
       "      <th>3</th>\n",
       "      <td>A1</td>\n",
       "      <td>A5</td>\n",
       "      <td>0.452410</td>\n",
       "    </tr>\n",
       "    <tr>\n",
       "      <th>4</th>\n",
       "      <td>A2</td>\n",
       "      <td>A3</td>\n",
       "      <td>0.464543</td>\n",
       "    </tr>\n",
       "    <tr>\n",
       "      <th>5</th>\n",
       "      <td>A2</td>\n",
       "      <td>A4</td>\n",
       "      <td>0.340135</td>\n",
       "    </tr>\n",
       "    <tr>\n",
       "      <th>6</th>\n",
       "      <td>A2</td>\n",
       "      <td>A5</td>\n",
       "      <td>0.042353</td>\n",
       "    </tr>\n",
       "    <tr>\n",
       "      <th>7</th>\n",
       "      <td>A3</td>\n",
       "      <td>A4</td>\n",
       "      <td>0.293797</td>\n",
       "    </tr>\n",
       "    <tr>\n",
       "      <th>8</th>\n",
       "      <td>A3</td>\n",
       "      <td>A5</td>\n",
       "      <td>0.194514</td>\n",
       "    </tr>\n",
       "    <tr>\n",
       "      <th>9</th>\n",
       "      <td>A4</td>\n",
       "      <td>A5</td>\n",
       "      <td>0.061863</td>\n",
       "    </tr>\n",
       "  </tbody>\n",
       "</table>\n",
       "</div>"
      ],
      "text/plain": [
       "  level_0 level_1         0\n",
       "0      A1      A2  0.178809\n",
       "1      A1      A3  0.289642\n",
       "2      A1      A4  0.177180\n",
       "3      A1      A5  0.452410\n",
       "4      A2      A3  0.464543\n",
       "5      A2      A4  0.340135\n",
       "6      A2      A5  0.042353\n",
       "7      A3      A4  0.293797\n",
       "8      A3      A5  0.194514\n",
       "9      A4      A5  0.061863"
      ]
     },
     "execution_count": 668,
     "metadata": {},
     "output_type": "execute_result"
    }
   ],
   "source": [
    "cols = [f\"A{i}\" for i in range(1, 6)]\n",
    "for col in cols:\n",
    "    corr_df[col] = pd.to_numeric(corr_df[col], errors='coerce')\n",
    "\n",
    "#computer pearson correlation matrix\n",
    "corr_mat = corr_df[cols].corr(method='pearson')\n",
    "\n",
    "#convert matrix into long format -- upper triangle only, dropping the 1.0 diagnol\n",
    "corr_long = (\n",
    "    corr_mat\n",
    "    .where(np.triu(np.ones(corr_mat.shape), k=1).astype(bool))\n",
    "    .stack()\n",
    "    .reset_index()\n",
    ")\n",
    "corr_long"
   ]
  },
  {
   "cell_type": "code",
   "execution_count": 670,
   "id": "6d220421-22a0-482c-bc22-ce6d5cf0b348",
   "metadata": {},
   "outputs": [],
   "source": [
    "#rename columns, find absolute values of all r values, and then sort them in descending order\n",
    "corr_long.columns = ['Feature1', 'Feature2', 'r']\n",
    "corr_long['abs_r'] = corr_long['r'].abs()\n",
    "corr_long = corr_long.sort_values('abs_r', ascending=False)"
   ]
  },
  {
   "cell_type": "code",
   "execution_count": 672,
   "id": "dacbb521-11ab-4a25-aacd-0b15f5759a7c",
   "metadata": {},
   "outputs": [
    {
     "name": "stdout",
     "output_type": "stream",
     "text": [
      "{'feature_pair': 'A2 – A3', 'correlation_r': 0.46454268460731213, 'correlation_is': 'positive'}\n"
     ]
    }
   ],
   "source": [
    "strongest = corr_long.iloc[0]\n",
    "result = {\n",
    "    'feature_pair': f\"{strongest['Feature1']} – {strongest['Feature2']}\",\n",
    "    'correlation_r': strongest['r'],\n",
    "    'correlation_is': \"positive\" if strongest['r'] > 0 else \"negative\"\n",
    "}\n",
    "print(result)"
   ]
  },
  {
   "cell_type": "markdown",
   "id": "d8f7ef27-2225-4e30-bf54-0cc375477a64",
   "metadata": {},
   "source": [
    "##### (2.4) Z-score Normalization of all Features"
   ]
  },
  {
   "cell_type": "code",
   "execution_count": 675,
   "id": "ad6cc7ba-03f6-4429-a976-8c8fc5230e0a",
   "metadata": {},
   "outputs": [],
   "source": [
    "from sklearn.preprocessing import StandardScaler"
   ]
  },
  {
   "cell_type": "code",
   "execution_count": 677,
   "id": "f9adb64d-5264-4da5-b03f-ed2f305bbbdc",
   "metadata": {},
   "outputs": [],
   "source": [
    "scaler = StandardScaler() #initializing the scaler"
   ]
  },
  {
   "cell_type": "code",
   "execution_count": 679,
   "id": "cc4fc1ea-d6ea-453f-84d9-63d48b1c4d39",
   "metadata": {},
   "outputs": [
    {
     "name": "stdout",
     "output_type": "stream",
     "text": [
      "Z-score normalized data: \n",
      "           A1        A2        A3        A4        A5\n",
      "0  -1.623905 -0.094260 -0.731585  0.351061 -0.654143\n",
      "1   0.144166 -0.634904  0.472006  0.188282  0.367844\n",
      "2  -1.691908 -0.728929 -0.377588 -1.249604  2.956639\n",
      "3  -1.759911 -1.669179  0.188808 -1.927852 -0.725361\n",
      "4   0.552182  0.540409 -0.660786 -0.028758  0.496037\n",
      "..       ...       ...       ...       ...       ...\n",
      "95  1.232210 -0.940485  2.241994  0.730880  0.670523\n",
      "96 -0.943878 -0.094260  1.180001  1.219218 -0.273123\n",
      "97 -0.943878  0.140802 -0.519187  0.323931 -0.273123\n",
      "98 -1.011881 -1.457623 -1.014783 -0.381447 -0.312293\n",
      "99  0.824193 -0.188285  0.377843 -0.625616  0.570817\n",
      "\n",
      "[100 rows x 5 columns]\n"
     ]
    }
   ],
   "source": [
    "normalized_arr = scaler.fit_transform(corr_df)\n",
    "normalized_df = pd.DataFrame(normalized_arr, columns=corr_df.columns)\n",
    "print(\"Z-score normalized data: \\n\", normalized_df)"
   ]
  },
  {
   "cell_type": "markdown",
   "id": "22b4d675-bc77-4ae9-bd1a-6a826e95165f",
   "metadata": {},
   "source": [
    "##### (2.5) Correlation Matrix of all Five Normalized Features"
   ]
  },
  {
   "cell_type": "code",
   "execution_count": 682,
   "id": "da0a7f7d-5c1a-4db7-92d2-5f53d21c5b6c",
   "metadata": {},
   "outputs": [],
   "source": [
    "norm_df_corr_matrix = normalized_df.corr()"
   ]
  },
  {
   "cell_type": "code",
   "execution_count": 684,
   "id": "a270f34a-6185-4f4f-a2d7-88d4a7f64e3d",
   "metadata": {},
   "outputs": [
    {
     "name": "stdout",
     "output_type": "stream",
     "text": [
      "Correlation Matrix Normalized Features: \n",
      "           A1        A2        A3        A4        A5\n",
      "A1  1.000000  0.178809  0.289642  0.177180  0.452410\n",
      "A2  0.178809  1.000000  0.464543  0.340135  0.042353\n",
      "A3  0.289642  0.464543  1.000000  0.293797  0.194514\n",
      "A4  0.177180  0.340135  0.293797  1.000000  0.061863\n",
      "A5  0.452410  0.042353  0.194514  0.061863  1.000000\n"
     ]
    }
   ],
   "source": [
    "print(\"Correlation Matrix Normalized Features: \\n\", norm_df_corr_matrix)"
   ]
  }
 ],
 "metadata": {
  "kernelspec": {
   "display_name": "Python [conda env:base] *",
   "language": "python",
   "name": "conda-base-py"
  },
  "language_info": {
   "codemirror_mode": {
    "name": "ipython",
    "version": 3
   },
   "file_extension": ".py",
   "mimetype": "text/x-python",
   "name": "python",
   "nbconvert_exporter": "python",
   "pygments_lexer": "ipython3",
   "version": "3.12.7"
  }
 },
 "nbformat": 4,
 "nbformat_minor": 5
}
